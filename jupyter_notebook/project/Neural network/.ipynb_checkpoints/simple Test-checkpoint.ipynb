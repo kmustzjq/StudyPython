{
 "cells": [
  {
   "cell_type": "code",
   "execution_count": 24,
   "metadata": {},
   "outputs": [
    {
     "name": "stdout",
     "output_type": "stream",
     "text": [
      "hello,tom,12\n",
      "hello,12\n",
      "hello,tom\n"
     ]
    }
   ],
   "source": [
    "print('hello,%s,%d'% ('tom',12))\n",
    "\n",
    "print('hello,%d'% (12))\n",
    "print('hello,tom')"
   ]
  },
  {
   "cell_type": "code",
   "execution_count": 25,
   "metadata": {
    "collapsed": true
   },
   "outputs": [],
   "source": [
    "def f(n):\n",
    "    return {\n",
    "        0:\"0\",\n",
    "        1:\"1\",\n",
    "        2:\"2\",\n",
    "        3:\"3\"\n",
    "    }.get(n,\"others\")"
   ]
  },
  {
   "cell_type": "code",
   "execution_count": 29,
   "metadata": {},
   "outputs": [
    {
     "name": "stdout",
     "output_type": "stream",
     "text": [
      "0 is 0\n",
      "1 is 1\n",
      "2 is 2\n",
      "3 is 3\n",
      "4 is others\n",
      "5 is others\n"
     ]
    }
   ],
   "source": [
    "print(\"0 is %s\"%f(0))\n",
    "print(\"1 is %s\"%f(1))\n",
    "print(\"2 is %s\"%f(2))\n",
    "print(\"3 is %s\"%f(3))\n",
    "print(\"4 is %s\"%f(4))\n",
    "print(\"5 is %s\"%f(5))"
   ]
  },
  {
   "cell_type": "code",
   "execution_count": null,
   "metadata": {
    "collapsed": true
   },
   "outputs": [],
   "source": [
    "a=3\n",
    "n=5\n",
    "count,sn,tn=1,0,0\n",
    "while count<=n:\n",
    "    tn+=a\n",
    "    print(tn)\n",
    "    sn+=tn\n",
    "    print(sn)\n",
    "    a*=10\n",
    "    count+=1\n",
    "\n"
   ]
  }
 ],
 "metadata": {
  "kernelspec": {
   "display_name": "Python 3",
   "language": "python",
   "name": "python3"
  },
  "language_info": {
   "codemirror_mode": {
    "name": "ipython",
    "version": 3
   },
   "file_extension": ".py",
   "mimetype": "text/x-python",
   "name": "python",
   "nbconvert_exporter": "python",
   "pygments_lexer": "ipython3",
   "version": "3.6.3"
  }
 },
 "nbformat": 4,
 "nbformat_minor": 2
}
