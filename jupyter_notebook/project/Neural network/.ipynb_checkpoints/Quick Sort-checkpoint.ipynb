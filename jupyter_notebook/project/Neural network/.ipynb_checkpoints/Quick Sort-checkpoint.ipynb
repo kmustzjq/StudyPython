{
 "cells": [
  {
   "cell_type": "markdown",
   "metadata": {},
   "source": [
    "# 快速排序算法"
   ]
  },
  {
   "cell_type": "code",
   "execution_count": 76,
   "metadata": {},
   "outputs": [],
   "source": [
    "class Quick_Sort:\n",
    "    def quick_sort(self,list_1):\n",
    "        small,big=[],[]\n",
    "        if len(list_1)<=1:\n",
    "            return list_1 \n",
    "        else:\n",
    "            select_point=list_1.pop()\n",
    "            for x in list_1:\n",
    "                if x<=select_point:\n",
    "                    small.append(x)\n",
    "                else:\n",
    "                    big.append(x)\n",
    "            return quick_sort(small)+[select_point]+quick_sort(big)\n",
    "        \n",
    "    "
   ]
  },
  {
   "cell_type": "code",
   "execution_count": 77,
   "metadata": {
    "scrolled": true
   },
   "outputs": [],
   "source": [
    "Quick_Sort1=Quick_Sort()\n",
    "list1=[2,3,5,6,7,4,9,1]"
   ]
  },
  {
   "cell_type": "code",
   "execution_count": 78,
   "metadata": {},
   "outputs": [
    {
     "name": "stdout",
     "output_type": "stream",
     "text": [
      "9\n",
      "4\n",
      "3\n",
      "7\n",
      "6\n"
     ]
    },
    {
     "data": {
      "text/plain": [
       "[1, 2, 3, 4, 5, 6, 7, 9]"
      ]
     },
     "execution_count": 78,
     "metadata": {},
     "output_type": "execute_result"
    }
   ],
   "source": [
    "Quick_Sort1.quick_sort(list1)"
   ]
  }
 ],
 "metadata": {
  "kernelspec": {
   "display_name": "Python 3",
   "language": "python",
   "name": "python3"
  },
  "language_info": {
   "codemirror_mode": {
    "name": "ipython",
    "version": 3
   },
   "file_extension": ".py",
   "mimetype": "text/x-python",
   "name": "python",
   "nbconvert_exporter": "python",
   "pygments_lexer": "ipython3",
   "version": "3.6.3"
  }
 },
 "nbformat": 4,
 "nbformat_minor": 2
}
