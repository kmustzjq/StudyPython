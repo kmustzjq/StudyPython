{
 "cells": [
  {
   "cell_type": "code",
   "execution_count": 31,
   "metadata": {},
   "outputs": [
    {
     "name": "stdout",
     "output_type": "stream",
     "text": [
      "(150,)\n",
      "[[ 6.3  3.3  6.   2.5]\n",
      " [ 4.9  3.1  1.5  0.1]]\n",
      "instance 0 prediction； [ 2.]\n",
      "instance 1 prediction； [ 0.]\n",
      "2 0\n"
     ]
    }
   ],
   "source": [
    "#随机森林\n",
    "\n",
    "from sklearn.tree import DecisionTreeRegressor  \n",
    "from sklearn.ensemble import RandomForestRegressor  \n",
    "import numpy as np  \n",
    "import pandas as pd\n",
    "\n",
    "from sklearn.datasets import load_iris  \n",
    "iris=load_iris()  \n",
    "\n",
    "#print iris#iris的４个属性是：萼片宽度　萼片长度　花瓣宽度　花瓣长度　标签是花的种类：setosa versicolour virginica  \n",
    "print(iris['target'].shape)\n",
    "rf=RandomForestRegressor()#这里使用了默认的参数设置  \n",
    "rf.fit(iris.data[:150],iris.target[:150])#进行模型的训练  \n",
    "#    \n",
    "\n",
    "#随机挑选两个预测不相同的样本  \n",
    "instance=iris.data[[100,9]]  \n",
    "print(instance)\n",
    "rf.predict(instance[[0]])\n",
    "print('instance 0 prediction；',rf.predict(instance[[0]]))\n",
    "print( 'instance 1 prediction；',rf.predict(instance[[1]]))\n",
    "print(iris.target[100],iris.target[9])  \n"
   ]
  },
  {
   "cell_type": "code",
   "execution_count": 23,
   "metadata": {},
   "outputs": [
    {
     "data": {
      "text/plain": [
       "6.333333333333333"
      ]
     },
     "execution_count": 23,
     "metadata": {},
     "output_type": "execute_result"
    }
   ],
   "source": [
    "import numpy as np\n",
    "#np.sqrt(4)\n",
    "a=np.array([1,2,3,4,3,2,1,6,7,3,45,6,7,3,2])\n",
    "#np.argsort(a)\n",
    "#a[np.argsort(a)]\n",
    "np.mean(a)"
   ]
  }
 ],
 "metadata": {
  "kernelspec": {
   "display_name": "Python 3",
   "language": "python",
   "name": "python3"
  },
  "language_info": {
   "codemirror_mode": {
    "name": "ipython",
    "version": 3
   },
   "file_extension": ".py",
   "mimetype": "text/x-python",
   "name": "python",
   "nbconvert_exporter": "python",
   "pygments_lexer": "ipython3",
   "version": "3.6.3"
  }
 },
 "nbformat": 4,
 "nbformat_minor": 2
}
