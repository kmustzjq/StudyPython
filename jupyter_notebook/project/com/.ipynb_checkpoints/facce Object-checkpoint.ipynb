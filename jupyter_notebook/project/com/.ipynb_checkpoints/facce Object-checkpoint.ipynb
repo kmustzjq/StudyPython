{
 "cells": [
  {
   "cell_type": "code",
   "execution_count": 3,
   "metadata": {},
   "outputs": [],
   "source": [
    "#使用class创建一个School类\n",
    "class School:\n",
    "    def __init__(self,name,age):\n",
    "        self.name=name\n",
    "        self.age=age\n",
    "\n",
    "    def student(self):\n",
    "        print(\"name:%s,age:%s\"%(self.name,self.age))\n",
    "    def classroom(self):\n",
    "        print(\"%s去教室\"%self.name)\n"
   ]
  },
  {
   "cell_type": "code",
   "execution_count": 4,
   "metadata": {
    "collapsed": true
   },
   "outputs": [],
   "source": [
    "class SchoolA(School):  #SchoolA继承School\n",
    "    def __init__(self,name):\n",
    "        self.name=name"
   ]
  },
  {
   "cell_type": "code",
   "execution_count": 5,
   "metadata": {},
   "outputs": [],
   "source": [
    "class SchoolB(SchoolA): #SchoolB继承SchoolA\n",
    "    def __init__(self,name):\n",
    "        self.name=name"
   ]
  },
  {
   "cell_type": "code",
   "execution_count": 7,
   "metadata": {},
   "outputs": [
    {
     "name": "stdout",
     "output_type": "stream",
     "text": [
      "zhangsan去教室\n",
      "lisi去教室\n"
     ]
    }
   ],
   "source": [
    "#创建对象a1\n",
    "a1=SchoolA(\"zhangsan\")\n",
    "a1.classroom()\n",
    "#创建对象a2\n",
    "a2=SchoolB(\"lisi\")\n",
    "a2.classroom()\n",
    "#执行结果：\n",
    "#   zhangsan去教室\n",
    "#   lisi去教室"
   ]
  }
 ],
 "metadata": {
  "kernelspec": {
   "display_name": "Python 3",
   "language": "python",
   "name": "python3"
  },
  "language_info": {
   "codemirror_mode": {
    "name": "ipython",
    "version": 3
   },
   "file_extension": ".py",
   "mimetype": "text/x-python",
   "name": "python",
   "nbconvert_exporter": "python",
   "pygments_lexer": "ipython3",
   "version": "3.6.3"
  }
 },
 "nbformat": 4,
 "nbformat_minor": 2
}
