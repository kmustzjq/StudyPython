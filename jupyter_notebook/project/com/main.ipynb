{
 "cells": [
  {
   "cell_type": "code",
   "execution_count": 9,
   "metadata": {},
   "outputs": [
    {
     "name": "stdout",
     "output_type": "stream",
     "text": [
      "zhangsan去教室\n",
      "lisi去教室\n"
     ]
    }
   ],
   "source": [
    "from SchoolA import SchoolA\n",
    "from SchoolB import SchoolB\n",
    "#创建对象a1\n",
    "a1=SchoolA(\"zhangsan\")\n",
    "a1.classroom()\n",
    "#创建对象a2\n",
    "a2=SchoolB(\"lisi\")\n",
    "a2.classroom()\n",
    "#执行结果：\n",
    "#   zhangsan去教室\n",
    "#   lisi去教室"
   ]
  },
  {
   "cell_type": "markdown",
   "metadata": {},
   "source": []
  }
 ],
 "metadata": {
  "kernelspec": {
   "display_name": "Python 3",
   "language": "python",
   "name": "python3"
  },
  "language_info": {
   "codemirror_mode": {
    "name": "ipython",
    "version": 3
   },
   "file_extension": ".py",
   "mimetype": "text/x-python",
   "name": "python",
   "nbconvert_exporter": "python",
   "pygments_lexer": "ipython3",
   "version": "3.6.3"
  }
 },
 "nbformat": 4,
 "nbformat_minor": 2
}
